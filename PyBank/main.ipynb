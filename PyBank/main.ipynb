{
 "cells": [
  {
   "cell_type": "code",
   "execution_count": 35,
   "id": "5dd0bbb2-37bc-4342-9ca0-e340fd92afc6",
   "metadata": {
    "tags": []
   },
   "outputs": [],
   "source": [
    "import os\n",
    "import csv\n",
    "import pandas as pd\n",
    "from pathlib import Path\n",
    "from statistics import mean"
   ]
  },
  {
   "cell_type": "code",
   "execution_count": 36,
   "id": "239a00d2-ffa7-4da3-bb2f-6158b3eac297",
   "metadata": {
    "tags": []
   },
   "outputs": [
    {
     "name": "stdout",
     "output_type": "stream",
     "text": [
      "Resources\\budget_data.csv\n"
     ]
    }
   ],
   "source": [
    "#Set path\n",
    "budget = Path('Resources', 'budget_data.csv')\n",
    "print(budget)"
   ]
  },
  {
   "cell_type": "code",
   "execution_count": 37,
   "id": "8e538362-5a91-4a4e-b509-1de23c18aabf",
   "metadata": {
    "tags": []
   },
   "outputs": [],
   "source": [
    "#Read csv file\n",
    "budget_df = pd.read_csv(budget)"
   ]
  },
  {
   "cell_type": "code",
   "execution_count": 38,
   "id": "37e0c3a8-1386-411a-8f50-3d88180c732d",
   "metadata": {
    "tags": []
   },
   "outputs": [
    {
     "name": "stdout",
     "output_type": "stream",
     "text": [
      "Financial Analysis\n",
      "------------------------------------------------\n",
      "Total Months:  86\n",
      "Total: $ 22564198\n",
      "Average Change: $ -8311.11\n",
      "Greatest Increase in Profits: Feb-14 ($1862002)\n",
      "Greatest Decrease in Profits: Feb-14 ($-1825558)\n"
     ]
    }
   ],
   "source": [
    "#Set header row and break\n",
    "heading = \"Financial Analysis\"\n",
    "heading_break = \"------------------------------------------------\"\n",
    "\n",
    "#Find total months\n",
    "total_months = len(budget_df)\n",
    "\n",
    "#Find total of profit/losses column\n",
    "net_profit_losses = budget_df[\"Profit/Losses\"].sum()\n",
    "\n",
    "#Find the change in profit/losses column\n",
    "change = budget_df[\"Profit/Losses\"].diff()\n",
    "\n",
    "#Find the average of those changes in profit/losses column\n",
    "avg_change = change.mean()\n",
    "\n",
    "#Find the greatest increase in profits including the data and amount\n",
    "grt_increase = change.idxmax()\n",
    "date = budget_df.loc[grt_increase, \"Date\"]\n",
    "grt_amount = change.loc[grt_increase]\n",
    "\n",
    "#Find the greatest decrease in profits including the data and amount\n",
    "grt_decrease = change.idxmin()\n",
    "date = budget_df.loc[grt_decrease, \"Date\"]\n",
    "lst_amount = change.loc[grt_decrease]\n",
    "\n",
    "#Print the set\n",
    "print(heading)\n",
    "print(heading_break)\n",
    "print(f\"Total Months: \", total_months)\n",
    "print(f\"Total: $\", net_profit_losses)\n",
    "print(f\"Average Change: $ {avg_change:.2f}\")\n",
    "print(f\"Greatest Increase in Profits: {date} (${grt_amount:.0f})\")\n",
    "print(f\"Greatest Decrease in Profits: {date} (${lst_amount:.0f})\")"
   ]
  },
  {
   "cell_type": "code",
   "execution_count": 39,
   "id": "64bf3cfd-cf4a-4aa1-a92f-28186c9fc140",
   "metadata": {},
   "outputs": [],
   "source": [
    "#Send the output to a txt file\n",
    "output_path = os.path.join(\"analysis\", \"pybank.txt\")\n",
    "with open(output_path, \"w\") as f:\n",
    "    f.write(f'{heading}\\n')\n",
    "    f.write(f'{heading_break}\\n')\n",
    "    f.write(f'Total Months: {total_months}\\n')\n",
    "    f.write(f'Total: $ {net_profit_losses}\\n')\n",
    "    f.write(f'Average Change: $ {avg_change:.2f}\\n')\n",
    "    f.write(f'Greatest Increase in Profits: {date} (${grt_amount:.0f})\\n')\n",
    "    f.write(f'Greatest Decrease in Profits: {date} (${lst_amount:.0f})\\n')"
   ]
  },
  {
   "cell_type": "code",
   "execution_count": null,
   "id": "419eeae4-8e38-4b1f-b60b-26f30bdf44f8",
   "metadata": {},
   "outputs": [],
   "source": []
  }
 ],
 "metadata": {
  "kernelspec": {
   "display_name": "Python 3 (ipykernel)",
   "language": "python",
   "name": "python3"
  },
  "language_info": {
   "codemirror_mode": {
    "name": "ipython",
    "version": 3
   },
   "file_extension": ".py",
   "mimetype": "text/x-python",
   "name": "python",
   "nbconvert_exporter": "python",
   "pygments_lexer": "ipython3",
   "version": "3.11.5"
  }
 },
 "nbformat": 4,
 "nbformat_minor": 5
}
