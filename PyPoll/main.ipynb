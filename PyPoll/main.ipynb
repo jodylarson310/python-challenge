{
 "cells": [
  {
   "cell_type": "code",
   "execution_count": 57,
   "id": "5dd0bbb2-37bc-4342-9ca0-e340fd92afc6",
   "metadata": {
    "tags": []
   },
   "outputs": [],
   "source": [
    "import os\n",
    "import csv\n",
    "import pandas as pd\n",
    "from pathlib import Path\n",
    "from statistics import mean"
   ]
  },
  {
   "cell_type": "code",
   "execution_count": 58,
   "id": "239a00d2-ffa7-4da3-bb2f-6158b3eac297",
   "metadata": {
    "tags": []
   },
   "outputs": [
    {
     "name": "stdout",
     "output_type": "stream",
     "text": [
      "Resources\\election_data.csv\n"
     ]
    }
   ],
   "source": [
    "#Set path\n",
    "election = Path('Resources', 'election_data.csv')\n",
    "print(election)"
   ]
  },
  {
   "cell_type": "code",
   "execution_count": 59,
   "id": "8e538362-5a91-4a4e-b509-1de23c18aabf",
   "metadata": {
    "tags": []
   },
   "outputs": [],
   "source": [
    "#Read csv file\n",
    "election_df = pd.read_csv(election)"
   ]
  },
  {
   "cell_type": "code",
   "execution_count": 60,
   "id": "37e0c3a8-1386-411a-8f50-3d88180c732d",
   "metadata": {
    "tags": []
   },
   "outputs": [
    {
     "name": "stdout",
     "output_type": "stream",
     "text": [
      "Election Results\n",
      "------------------------------------------------\n",
      "Total Votes:  369711\n",
      "------------------------------------------------\n",
      "Charles Casper Stockham: 23.049% (85213)\n",
      "Diana DeGette: 73.812% (272892)\n",
      "Raymon Anthony Doane: 3.139% (11606)\n",
      "------------------------------------------------\n",
      "Winner: Diana DeGette\n",
      "------------------------------------------------\n"
     ]
    }
   ],
   "source": [
    "#Store header and break\n",
    "heading = \"Election Results\"\n",
    "heading_break = \"------------------------------------------------\"\n",
    "\n",
    "#Find total votes\n",
    "total_votes = len(election_df)\n",
    "\n",
    "#Find list of candidates\n",
    "candidates = election_df[\"Candidate\"].unique()\n",
    "\n",
    "#Find count and % of votes for each candidate\n",
    "vote_candidate = election_df[\"Candidate\"].value_counts()\n",
    "vote_percentages = vote_candidate / total_votes * 100\n",
    "\n",
    "#Find the winner\n",
    "winner = vote_candidate.idxmax()\n",
    "\n",
    "#Print the set\n",
    "print(heading)\n",
    "print(heading_break)\n",
    "print(f'Total Votes: ', total_votes)\n",
    "print(heading_break)\n",
    "for candidate in candidates:\n",
    "    vote_percent = vote_percentages[candidate]\n",
    "    vote_count = vote_candidate[candidate]\n",
    "    print(f'{candidate}: {vote_percent:.3f}% ({vote_count})')\n",
    "print(heading_break)\n",
    "print(f'Winner: {winner}')\n",
    "print(heading_break)"
   ]
  },
  {
   "cell_type": "code",
   "execution_count": 61,
   "id": "64bf3cfd-cf4a-4aa1-a92f-28186c9fc140",
   "metadata": {},
   "outputs": [],
   "source": [
    "#Send output to txt file\n",
    "output_path = os.path.join(\"analysis\", \"pyPoll.txt\")\n",
    "with open(output_path, \"w\") as f:\n",
    "    f.write(f'{heading}\\n')\n",
    "    f.write(f'{heading_break}\\n')\n",
    "    f.write(f'Total Votes: {total_votes}\\n')\n",
    "    f.write(f'{heading_break}\\n')\n",
    "    for candidate in candidates:\n",
    "        vote_percent = vote_percentages[candidate]\n",
    "        vote_count = vote_candidate[candidate]\n",
    "        f.write(f'{candidate}: {vote_percent:.3f}% ({vote_count})\\n')\n",
    "    f.write(f'{heading_break}\\n')\n",
    "    f.write(f'Winner: {winner}\\n')\n",
    "    f.write(f'{heading_break}\\n')"
   ]
  },
  {
   "cell_type": "code",
   "execution_count": null,
   "id": "419eeae4-8e38-4b1f-b60b-26f30bdf44f8",
   "metadata": {},
   "outputs": [],
   "source": []
  }
 ],
 "metadata": {
  "kernelspec": {
   "display_name": "Python 3 (ipykernel)",
   "language": "python",
   "name": "python3"
  },
  "language_info": {
   "codemirror_mode": {
    "name": "ipython",
    "version": 3
   },
   "file_extension": ".py",
   "mimetype": "text/x-python",
   "name": "python",
   "nbconvert_exporter": "python",
   "pygments_lexer": "ipython3",
   "version": "3.11.5"
  }
 },
 "nbformat": 4,
 "nbformat_minor": 5
}
